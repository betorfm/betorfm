{
  "nbformat": 4,
  "nbformat_minor": 0,
  "metadata": {
    "colab": {
      "provenance": [],
      "authorship_tag": "ABX9TyPmo5t/RdbbDmf39XoRkex+",
      "include_colab_link": true
    },
    "kernelspec": {
      "name": "python3",
      "display_name": "Python 3"
    },
    "language_info": {
      "name": "python"
    }
  },
  "cells": [
    {
      "cell_type": "markdown",
      "metadata": {
        "id": "view-in-github",
        "colab_type": "text"
      },
      "source": [
        "<a href=\"https://colab.research.google.com/github/betorfm/betorfm/blob/main/Estudo%20de%20python%20estacio.ipynb\" target=\"_parent\"><img src=\"https://colab.research.google.com/assets/colab-badge.svg\" alt=\"Open In Colab\"/></a>"
      ]
    },
    {
      "cell_type": "code",
      "execution_count": 4,
      "metadata": {
        "colab": {
          "base_uri": "https://localhost:8080/"
        },
        "id": "b55ytNwNhlct",
        "outputId": "1b15abef-3777-4a01-c7c0-3ca8974b5a0c"
      },
      "outputs": [
        {
          "output_type": "stream",
          "name": "stdout",
          "text": [
            "A\n",
            "B B\n",
            "C C C\n"
          ]
        }
      ],
      "source": [
        "print (\"A\")\n",
        "print (\"B\", \"B\")\n",
        "print (\"C\", \"C\", \"C\")"
      ]
    },
    {
      "cell_type": "code",
      "source": [
        "# Receber dois números do usuário\n",
        "numero1 + float(input(\"Digite o primeiro número: \"))\n",
        "numero2 + float(input(\"Digite o segundo número: \"))\n",
        "\n",
        "# Calcular a média\n",
        "print(numero1 + numero2) / 2\n",
        "\n",
        "# Imprimir a média\n",
        "print(f\"A média dos dois números é: {media}\")"
      ],
      "metadata": {
        "id": "ZdPvymxfij0X"
      },
      "execution_count": null,
      "outputs": []
    },
    {
      "cell_type": "code",
      "source": [
        "# Receber um número do usuário\n",
        "numero - int(input(\"Digite um número: \"))\n",
        "\n",
        "# Verificar se o número é par ou ímpar\n",
        "if numero % 2 == 0:\n",
        "    print(f\"O número {numero} é par.\")\n",
        "else:\n",
        "    print(f\"O número {numero} é ímpar.\")"
      ],
      "metadata": {
        "id": "G306sJwVimbq"
      },
      "execution_count": null,
      "outputs": []
    }
  ]
}